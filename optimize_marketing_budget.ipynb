{
 "cells": [
  {
   "cell_type": "code",
   "execution_count": 62,
   "metadata": {},
   "outputs": [],
   "source": [
    "import cvxpy as cp\n",
    "import numpy as np"
   ]
  },
  {
   "cell_type": "code",
   "execution_count": 63,
   "metadata": {},
   "outputs": [],
   "source": [
    "# Input Data\n",
    "channels = ['Social Media', 'SEM', 'Content', 'Email', 'Display']\n",
    "expected_returns = [28, 34, 21, 14, 18]  # per $100\n",
    "min_allocations = [5000, 5000, 2500, 2500, 2500]  # Minimum allocations\n",
    "max_allocations = [20000, 20000, 15000, 10000, 10000]  # Maximum allocations\n",
    "total_budget = 50000  # Total budget\n",
    "target_acquisitions = 13825  # Target acquisitions\n",
    "\n",
    "# Convert expected returns per $100 to per dollar\n",
    "returns_per_dollar = np.array(expected_returns) / 100"
   ]
  },
  {
   "cell_type": "code",
   "execution_count": 64,
   "metadata": {},
   "outputs": [],
   "source": [
    "# Assumed covariance matrix (example from previous discussions)\n",
    "cov_matrix = np.array([\n",
    "    [0.0002, 0.00015, 0.0001, 0.00005, 0.00005],  # Social Media\n",
    "    [0.00015, 0.0003, 0.0001, 0.00005, 0.00005],  # SEM\n",
    "    [0.0001, 0.0001, 0.0002, 0.00005, 0.00005],   # Content\n",
    "    [0.00005, 0.00005, 0.00005, 0.0001, 0.00002], # Email\n",
    "    [0.00005, 0.00005, 0.00005, 0.00002, 0.0001]  # Display\n",
    "])\n"
   ]
  },
  {
   "cell_type": "code",
   "execution_count": 65,
   "metadata": {},
   "outputs": [],
   "source": [
    "# Compute H matrix for the quadratic objective function\n",
    "H = 2 * cov_matrix\n",
    "\n",
    "# Decision variables: allocations for each channel\n",
    "x = cp.Variable(len(channels))\n",
    "\n",
    "# Objective function: minimize portfolio variance (1/2 x^T H x)\n",
    "objective = cp.Minimize((1/2) * cp.quad_form(x, H))"
   ]
  },
  {
   "cell_type": "code",
   "execution_count": 66,
   "metadata": {},
   "outputs": [],
   "source": [
    "# Constraints\n",
    "constraints = [\n",
    "    cp.sum(x) == total_budget,  # Total budget constraint\n",
    "    returns_per_dollar @ x >= target_acquisitions,  # Minimum expected acquisitions\n",
    "    x >= min_allocations,  # Minimum allocation constraints\n",
    "    x <= max_allocations,  # Maximum allocation constraints\n",
    "    x >= 0  # Non-negativity constraint\n",
    "]"
   ]
  },
  {
   "cell_type": "code",
   "execution_count": 67,
   "metadata": {},
   "outputs": [
    {
     "data": {
      "text/plain": [
       "344549.99999999965"
      ]
     },
     "execution_count": 67,
     "metadata": {},
     "output_type": "execute_result"
    }
   ],
   "source": [
    "# Solve the problem\n",
    "problem = cp.Problem(objective, constraints)\n",
    "problem.solve()"
   ]
  },
  {
   "cell_type": "code",
   "execution_count": 68,
   "metadata": {},
   "outputs": [],
   "source": [
    "# Summary of the Model\n",
    "def model_summary():\n",
    "    print(\"\\n--- Quadratic Programming Model Summary ---\")\n",
    "    print(f\"Status: {problem.status}\")\n",
    "    print(f\"Optimal Value (Minimized Risk): {problem.value:.6f}\")\n",
    "    print(f\"Total Expected Acquisitions: {returns_per_dollar @ x.value:.2f}\")\n",
    "    print(\"\\nChannel-wise Allocations and Expected Acquisitions:\")\n",
    "    for i, channel in enumerate(channels):\n",
    "        allocation = x.value[i]\n",
    "        acquisitions = allocation * returns_per_dollar[i]\n",
    "        print(f\"{channel}:\")\n",
    "        print(f\"  Allocation = ${allocation:.2f}\")\n",
    "        print(f\"  Expected Acquisitions = {acquisitions:.2f}\")\n",
    "    print(\"\\nConstraints Validation:\")\n",
    "    print(f\"  Total Allocated Budget: {sum(x.value):.2f} (Should equal {total_budget})\")\n",
    "    print(f\"  Total Expected Acquisitions: {returns_per_dollar @ x.value:.2f} (Should be >= {target_acquisitions})\")\n",
    "    for i, channel in enumerate(channels):\n",
    "        print(f\"  {channel}:\")\n",
    "        print(f\"    Allocation >= {min_allocations[i]}: {x.value[i] >= min_allocations[i]}\")\n",
    "        print(f\"    Allocation <= {max_allocations[i]}: {x.value[i] <= max_allocations[i]}\")\n",
    "    print(\"\\nCovariance Matrix:\")\n",
    "    print(cov_matrix)\n",
    "    print(\"---------------------------------------------\")"
   ]
  },
  {
   "cell_type": "code",
   "execution_count": 69,
   "metadata": {},
   "outputs": [
    {
     "name": "stdout",
     "output_type": "stream",
     "text": [
      "\n",
      "--- Quadratic Programming Model Summary ---\n",
      "Status: optimal\n",
      "Optimal Value (Minimized Risk): 344550.000000\n",
      "Total Expected Acquisitions: 13825.00\n",
      "\n",
      "Channel-wise Allocations and Expected Acquisitions:\n",
      "Social Media:\n",
      "  Allocation = $16500.00\n",
      "  Expected Acquisitions = 4620.00\n",
      "SEM:\n",
      "  Allocation = $20000.00\n",
      "  Expected Acquisitions = 6800.00\n",
      "Content:\n",
      "  Allocation = $2500.00\n",
      "  Expected Acquisitions = 525.00\n",
      "Email:\n",
      "  Allocation = $2500.00\n",
      "  Expected Acquisitions = 350.00\n",
      "Display:\n",
      "  Allocation = $8500.00\n",
      "  Expected Acquisitions = 1530.00\n",
      "\n",
      "Constraints Validation:\n",
      "  Total Allocated Budget: 50000.00 (Should equal 50000)\n",
      "  Total Expected Acquisitions: 13825.00 (Should be >= 13825)\n",
      "  Social Media:\n",
      "    Allocation >= 5000: True\n",
      "    Allocation <= 20000: True\n",
      "  SEM:\n",
      "    Allocation >= 5000: True\n",
      "    Allocation <= 20000: True\n",
      "  Content:\n",
      "    Allocation >= 2500: True\n",
      "    Allocation <= 15000: True\n",
      "  Email:\n",
      "    Allocation >= 2500: True\n",
      "    Allocation <= 10000: True\n",
      "  Display:\n",
      "    Allocation >= 2500: True\n",
      "    Allocation <= 10000: True\n",
      "\n",
      "Covariance Matrix:\n",
      "[[2.0e-04 1.5e-04 1.0e-04 5.0e-05 5.0e-05]\n",
      " [1.5e-04 3.0e-04 1.0e-04 5.0e-05 5.0e-05]\n",
      " [1.0e-04 1.0e-04 2.0e-04 5.0e-05 5.0e-05]\n",
      " [5.0e-05 5.0e-05 5.0e-05 1.0e-04 2.0e-05]\n",
      " [5.0e-05 5.0e-05 5.0e-05 2.0e-05 1.0e-04]]\n",
      "---------------------------------------------\n"
     ]
    }
   ],
   "source": [
    "# Display the model summary\n",
    "model_summary()"
   ]
  },
  {
   "cell_type": "code",
   "execution_count": 70,
   "metadata": {},
   "outputs": [
    {
     "name": "stdout",
     "output_type": "stream",
     "text": [
      "Optimal Budget Allocation and Acquisitions:\n",
      "Social Media: Allocation = $16500.00, Expected Acquisitions = 4620.00\n",
      "SEM: Allocation = $20000.00, Expected Acquisitions = 6800.00\n",
      "Content: Allocation = $2500.00, Expected Acquisitions = 525.00\n",
      "Email: Allocation = $2500.00, Expected Acquisitions = 350.00\n",
      "Display: Allocation = $8500.00, Expected Acquisitions = 1530.00\n"
     ]
    }
   ],
   "source": [
    "# Results\n",
    "print(\"Optimal Budget Allocation and Acquisitions:\")\n",
    "for i, channel in enumerate(channels):\n",
    "    allocation = x.value[i]\n",
    "    acquisitions = allocation * returns_per_dollar[i]\n",
    "    print(f\"{channel}: Allocation = ${allocation:.2f}, Expected Acquisitions = {acquisitions:.2f}\")\n"
   ]
  },
  {
   "cell_type": "code",
   "execution_count": 71,
   "metadata": {},
   "outputs": [
    {
     "name": "stdout",
     "output_type": "stream",
     "text": [
      "\n",
      "Total Expected Acquisitions: 13825.00\n",
      "Minimum Total Variance (Risk): 344550.000000\n"
     ]
    }
   ],
   "source": [
    "print(f\"\\nTotal Expected Acquisitions: {returns_per_dollar @ x.value:.2f}\")\n",
    "print(f\"Minimum Total Variance (Risk): {problem.value:.6f}\")"
   ]
  }
 ],
 "metadata": {
  "kernelspec": {
   "display_name": "Python 3",
   "language": "python",
   "name": "python3"
  },
  "language_info": {
   "codemirror_mode": {
    "name": "ipython",
    "version": 3
   },
   "file_extension": ".py",
   "mimetype": "text/x-python",
   "name": "python",
   "nbconvert_exporter": "python",
   "pygments_lexer": "ipython3",
   "version": "3.11.2"
  }
 },
 "nbformat": 4,
 "nbformat_minor": 2
}
